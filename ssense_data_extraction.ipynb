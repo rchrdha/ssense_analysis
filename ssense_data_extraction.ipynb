{
 "cells": [
  {
   "cell_type": "markdown",
   "id": "66df3e87",
   "metadata": {},
   "source": [
    "# SSENSE Spring Summer 2023 Menswear Sale Analysis "
   ]
  },
  {
   "cell_type": "markdown",
   "id": "38fa8864",
   "metadata": {},
   "source": [
    "<hr>\n",
    "<h2>by Richard Ha</h2>\n",
    "    <h3>Overview</h3><hr>This project aims to analyse the \"sale\" page of popular online luxury retail site SSENSE. The motivation for this endeavour is essentially to act as a proof-of-concept for a more detailed analysis of multi-dimensional sales data in the online luxury goods market.<br><br>I took a sample of roughly <b>1170 listings (1006 unique)</b> from the \"Sale\" page on SSENSE, under the menswear section and sorted by trending. The trending tab did not shift the order of listings within the data collection timeframe.<br><br>The main questions I wanted to be able to answer with this data analysis included but was not limited to the following inquiries:<br>\n",
    "    \n",
    "    What type of items get discounted by the highest percentage?\n",
    "  \n",
    "    Is there a correlation between country of manufacture and the sale percent? \n",
    "    \n",
    "    Is there a pattern in how sale percentages are distributed across item subcategories?\n",
    "    \n",
    "However, I also want to test common consumer beliefs regarding luxury fashion consumption, and inspect whether links can be made between them and the Sale page data, like so:<br>\n",
    "    \n",
    "    Does the country of origin affect the average base price of items? \n",
    "    \n",
    "    Does black-coloured clothing get discounted by the least amount amongst other colours?\n",
    "    \n",
    "Although it is a topic that is seldom considered, (dis)proving it is a fairly sensible activity and is also of interest, with regards to understanding consumer behaviour a little bit better.\n",
    "    <h3>Underlying Assumptions and Remarks</h3><hr>\n",
    "    As this analysis is done through the user-side of things, there is no ultra-detailed sales data nor was there a program like Salesforce. The reason that the sample size is 1170 and not more was due to the website security disabling access to basic webscraping tools. <br><br> It's also worth mentioning that my underlying assumption in terms of drawing conclusions is the notion that when something is on sale, it is considered to be stock that needs to be moved. Primarily, in luxury fashion, it is due to a inventory surplus, usually by the item not selling, combined with the need to clear out inventory before the next season, in this case Fall-Winter 2023. It is definitely not the sole reason in why something goes on sale, but for the purposes of this project, it will act as such.\n",
    "\n",
    "        \n",
    "<h3>Methodology</h3><h5>\n",
    "    \n",
    "    Step 1: Extract HTML Files from SSENSE Sale listings \n",
    "    \n",
    "    Step 2: Process and clean HTML data using BeautifulSoup into categories\n",
    "    \n",
    "    Step 3: Append values into Pandas series, which is then combined into a dataframe \n",
    "    \n",
    "    Step 4: Plotting datapoints according the some questions as above\n",
    "    \n",
    "    Step 5: Building and validating the model\n",
    "    \n",
    "    Step 6: Data visualisation in clear, concise manner \n",
    "\n",
    "</h5>The code for steps 1 to 3 is depicted in the cell below. \"Dataset Overview\", the next section, is continued at the bottom of the page.\n",
    " "
   ]
  },
  {
   "cell_type": "code",
   "execution_count": 8,
   "id": "51585059",
   "metadata": {
    "scrolled": true
   },
   "outputs": [],
   "source": [
    "import pandas as pd \n",
    "import matplotlib.pyplot as plt\n",
    "from pathlib import Path\n",
    "from bs4 import BeautifulSoup\n",
    "\n",
    "\n",
    "# creating empty dicts for series conversion \n",
    "\n",
    "item_brand_dict = {}\n",
    "item_type_dict = {}\n",
    "item_colour_dict = {} \n",
    "item_country_dict = {}\n",
    "item_bp_dict = {}\n",
    "item_sp_dict = {}\n",
    "item_salepercent_dict = {}\n",
    "\n",
    "# running the fade \n",
    "\n",
    "directory = Path.cwd()\n",
    "html_files = Path(directory).glob('**/*.html')\n",
    "for file in html_files:\n",
    "    file = str(file)\n",
    "    with open(file, 'r') as html_file:\n",
    "        content = html_file.read()\n",
    "        colour = []\n",
    "        soup = BeautifulSoup(content, 'lxml')\n",
    "        fullitemname = []\n",
    "        namelist = [] \n",
    "        tags = soup.find('div', class_=\"pdp__redesign view\")\n",
    "        text = tags.text\n",
    "        iterator = 2\n",
    "        newline_count = 0 \n",
    "\n",
    "        # finding the brand name \n",
    "\n",
    "        for letter in text:\n",
    "            if letter != \"\\n\":\n",
    "                namelist.append(letter)\n",
    "            if newline_count == 2:\n",
    "                break\n",
    "            if letter == \"\\n\":\n",
    "                newline_count += 1\n",
    "        namestr = ''.join(namelist)\n",
    "        brand_name = namestr.strip(' ')\n",
    "        joinedtext = text.replace(\"\\n\", \" \")\n",
    "        joinedtext = joinedtext.replace(brand_name, \"\", 1)\n",
    "        joinedtext = joinedtext.strip(' ')\n",
    "\n",
    "\n",
    "        # finding the colour \n",
    "        for letter in joinedtext: \n",
    "            if letter == \" \":\n",
    "                break\n",
    "            else:\n",
    "                colour.append(letter)\n",
    "        colour = ''.join(colour)\n",
    "        if colour == 'SSENSE':\n",
    "            colour = 'Multicolored'\n",
    "        joinedtext = joinedtext.strip(colour)\n",
    "        # finding the item type  \n",
    "\n",
    "        joinedtext = joinedtext.replace(\"       \", \"\\n\", 1)\n",
    "        for letter in joinedtext:\n",
    "            if letter == \"\\n\":\n",
    "                break\n",
    "            else:\n",
    "                fullitemname.append(letter)\n",
    "\n",
    "        fullitemname = ''.join(fullitemname)\n",
    "        itemname_list = list(fullitemname.split(\" \"))\n",
    "        lis_len = len(itemname_list)\n",
    "        itemname = itemname_list[lis_len - 1]\n",
    "        joinedtext = joinedtext.strip(fullitemname)\n",
    "\n",
    "        # finding the sale price \n",
    "\n",
    "        dollar_index = joinedtext.index(\"$\")\n",
    "        sale_price = [] \n",
    "        for letter in range(dollar_index + 1, len(joinedtext)): \n",
    "            if joinedtext[letter] == \" \":\n",
    "                break\n",
    "            else:\n",
    "                sale_price.append(joinedtext[letter])\n",
    "\n",
    "        sale_price = int(''.join(sale_price))\n",
    "\n",
    "        # determining whether or not it is on sale \n",
    "        sale_amt = [] \n",
    "        sale_index = joinedtext.find(\"% OFF\")\n",
    "        for letter in joinedtext: \n",
    "            if sale_index == -1:\n",
    "                sale_amt = 0\n",
    "            else:\n",
    "                sale_index = joinedtext.find(\"% OFF\")\n",
    "                sale_amt.append(joinedtext[sale_index - 2])\n",
    "                sale_amt.append(joinedtext[sale_index - 1])\n",
    "                break\n",
    "        \n",
    "        if sale_amt != 0: \n",
    "            sale_amt = int(''.join(sale_amt))\n",
    "        else:\n",
    "            sale_amt = 0\n",
    "\n",
    "        og_price = int(sale_price/(100 - sale_amt) * 100)\n",
    "\n",
    "        # finding country of origin \n",
    "        CTY_OG = []\n",
    "        origin_index = joinedtext.find(\"Made in \")\n",
    "        skip_text = len(\"Made in \")\n",
    "        for letter in joinedtext[origin_index + skip_text:]:\n",
    "            if letter == \".\":\n",
    "                break\n",
    "            else:\n",
    "                CTY_OG.append(letter)\n",
    "\n",
    "        CTY_OG = ''.join(CTY_OG)\n",
    "\n",
    "\n",
    "        # finding unique product ID \n",
    "        productID = []\n",
    "        psg_len = len(joinedtext)\n",
    "        copy_passage = joinedtext[::-1]\n",
    "        for letter in copy_passage:\n",
    "            if letter == \" \":\n",
    "                break\n",
    "            else:\n",
    "                productID.append(letter)\n",
    "\n",
    "        productID = productID[::-1]\n",
    "        productID = ''.join(productID)\n",
    "        \n",
    "        item_brand_dict[productID] = brand_name \n",
    "        item_type_dict[productID] = itemname \n",
    "        item_colour_dict[productID] = colour \n",
    "        item_country_dict[productID] = CTY_OG\n",
    "        item_bp_dict[productID] = og_price\n",
    "        item_sp_dict[productID] = sale_price\n",
    "        item_salepercent_dict[productID] = sale_amt\n",
    "        \n",
    "\n",
    "# turning all dictionaries into series then combining into final dataframe --> write to csv \n",
    "item_brands = pd.Series(item_brand_dict)\n",
    "item_types = pd.Series(item_type_dict)\n",
    "item_colours = pd.Series(item_colour_dict)\n",
    "item_countries = pd.Series(item_country_dict)\n",
    "item_baseprice = pd.Series(item_bp_dict)\n",
    "item_saleprice = pd.Series(item_sp_dict)\n",
    "item_salepercent = pd.Series(item_salepercent_dict)\n",
    "\n",
    "ssensesale_df = pd.DataFrame({'brand': item_brands, 'type': item_types, 'colour': item_colours, 'country of origin': item_countries, 'base price': item_baseprice, 'sale price': item_saleprice, 'sale percent': item_salepercent})\n",
    "\n",
    "ssensesale_df.to_csv('ssense_sale.csv')\n"
   ]
  },
  {
   "cell_type": "markdown",
   "id": "d30f664c",
   "metadata": {},
   "source": []
  },
  {
   "cell_type": "markdown",
   "id": "781ab5aa",
   "metadata": {},
   "source": [
    "# Dataset Overview \n",
    "\n",
    "<h3>At a glance, here is the basic information of the dataset that has been collected.\n",
    " \n",
    "<h6>The top 10 most frequent brands on sale, descending: "
   ]
  },
  {
   "cell_type": "code",
   "execution_count": 9,
   "id": "f18ed74a",
   "metadata": {
    "scrolled": true
   },
   "outputs": [
    {
     "data": {
      "text/plain": [
       "brand\n",
       "BAPE                         140\n",
       "Jacquemus                     84\n",
       "Stone Island                  54\n",
       "Maison Margiela               52\n",
       "Homme Plissé Issey Miyake     47\n",
       "Acne Studios                  44\n",
       "Versace                       42\n",
       "Isabel Marant                 38\n",
       "The North Face                37\n",
       "Carhartt Work In Progress     33\n",
       "dtype: int64"
      ]
     },
     "execution_count": 9,
     "metadata": {},
     "output_type": "execute_result"
    }
   ],
   "source": [
    "ssensesale_df.value_counts('brand')[0:10]"
   ]
  },
  {
   "cell_type": "markdown",
   "id": "7886a837",
   "metadata": {},
   "source": [
    "<h6>The top 10 most frequent item types on sale, descending:"
   ]
  },
  {
   "cell_type": "code",
   "execution_count": 38,
   "id": "ecebce2c",
   "metadata": {},
   "outputs": [
    {
     "name": "stdout",
     "output_type": "stream",
     "text": [
      "type\n",
      "T-Shirt       155\n",
      "Sneakers      104\n",
      "Hoodie         63\n",
      "Trousers       54\n",
      "Pants          53\n",
      "Sweatshirt     53\n",
      "Jacket         50\n",
      "Sunglasses     45\n",
      "Shirt          43\n",
      "Shorts         36\n",
      "dtype: int64\n"
     ]
    }
   ],
   "source": [
    "cpy = ssensesale_df.value_counts('type')[0:10]\n",
    "print(cpy)"
   ]
  },
  {
   "cell_type": "markdown",
   "id": "042ba513",
   "metadata": {},
   "source": [
    "<h6>The sale percentage overviews (in percent)</h6>\n",
    "\n",
    "    Mean: 38.7\n",
    "    Standard Deviation: 13.9\n",
    "    "
   ]
  },
  {
   "cell_type": "code",
   "execution_count": 27,
   "id": "d1e7eb78",
   "metadata": {},
   "outputs": [
    {
     "data": {
      "text/plain": [
       "count    1006.000000\n",
       "mean       38.718688\n",
       "std        13.893747\n",
       "min         0.000000\n",
       "25%        29.000000\n",
       "50%        40.000000\n",
       "75%        51.000000\n",
       "max        64.000000\n",
       "Name: sale percent, dtype: float64"
      ]
     },
     "execution_count": 27,
     "metadata": {},
     "output_type": "execute_result"
    }
   ],
   "source": [
    "ssensesale_df['sale percent'].describe()\n"
   ]
  },
  {
   "cell_type": "markdown",
   "id": "85771de6",
   "metadata": {},
   "source": [
    "<h5>The next notebook, ssense_analysis.ipynb, will demonstrate comprehensive plots and graphs regarding the questions asked in the introduction previously."
   ]
  }
 ],
 "metadata": {
  "kernelspec": {
   "display_name": "Python 3 (ipykernel)",
   "language": "python",
   "name": "python3"
  },
  "language_info": {
   "codemirror_mode": {
    "name": "ipython",
    "version": 3
   },
   "file_extension": ".py",
   "mimetype": "text/x-python",
   "name": "python",
   "nbconvert_exporter": "python",
   "pygments_lexer": "ipython3",
   "version": "3.10.9"
  }
 },
 "nbformat": 4,
 "nbformat_minor": 5
}
